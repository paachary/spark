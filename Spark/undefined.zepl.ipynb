﻿{
  "metadata": {
    "name": "SparkNotebook",
    "kernelspec": {
      "language": "scala",
      "name": "spark2-scala"
    },
    "language_info": {
      "codemirror_mode": "text/x-scala",
      "file_extension": ".scala",
      "mimetype": "text/x-scala",
      "name": "scala",
      "pygments_lexer": "scala"
    }
  },
  "nbformat": 4,
  "nbformat_minor": 2,
  "cells": [
    {
      "cell_type": "code",
      "execution_count": 0,
      "metadata": {
        "autoscroll": "auto"
      },
      "outputs": [],
      "source": "%spark.conf\n\nSPARK_HOME /usr/local/spark-2.4.5-bin-hadoop2.7"
    },
    {
      "cell_type": "code",
      "execution_count": 1,
      "metadata": {
        "autoscroll": "auto"
      },
      "outputs": [],
      "source": "%spark\n\n// Ratings file\nval ratingsFile \u003d spark.read.option(\"header\",\"true\").option(\"inferSchema\",\"true\").csv(\"hdfs://localhost:9000/user/hadoop/data/ratings.csv\")\nratingsFile.printSchema\nratingsFile.createOrReplaceTempView(\"ratings\")\n\n//Movies file\nval moviesFile \u003d spark.read.option(\"header\", \"true\").option(\"inferSchema\",\"true\").csv(\"hdfs://localhost:9000/user/hadoop/data/movies.csv\")\nmoviesFile.printSchema\nmoviesFile.createOrReplaceTempView(\"movies\")\n\n/*\nspark.sql(\"select r.movieid, m.title, \"+\n\" avg(r.rating) \"+\n\" from ratings r INNER JOIN movies m \"+\n\" on m.movieid \u003d r.movieid \" +\n\" where m.movieid in (  select r1.movieid \"+\n                        \"from ratings r1 \"+\n                        \"group by r1.movieid having count(*) \u003e 10)  \"+\n  \"group by r.movieid, m.title \"+\n  \" order by avg(r.rating) desc\").collect()\n\n*/"
    },
    {
      "cell_type": "code",
      "execution_count": 2,
      "metadata": {
        "autoscroll": "auto"
      },
      "outputs": [],
      "source": "%spark\nratingsFile.where(\"movieid \u003d 95517\").agg(avg(\"rating\")).show(false)"
    },
    {
      "cell_type": "code",
      "execution_count": 3,
      "metadata": {
        "autoscroll": "auto"
      },
      "outputs": [],
      "source": "%spark\nratingsFile.selectExpr(\"movieid\", \"rating\").groupBy(\"movieid\").agg(count(\"rating\").alias(\"cnt\"), avg(\"rating\").alias(\"avg\")).where(\" movieid \u003d 95517\").orderBy(desc(\"avg\")).show(20,false)"
    },
    {
      "cell_type": "code",
      "execution_count": 4,
      "metadata": {
        "autoscroll": "auto"
      },
      "outputs": [],
      "source": "%spark\nval ratingsWithFilter \u003d ratingsFile.selectExpr(\"movieid as ratingMovieId\", \"rating\").groupBy(\"ratingMovieId\").agg(count(\"rating\").alias(\"cnt\"), avg(\"rating\").alias(\"avg\")).where(\" cnt \u003e 10\").orderBy(desc(\"avg\"))"
    },
    {
      "cell_type": "code",
      "execution_count": 5,
      "metadata": {
        "autoscroll": "auto"
      },
      "outputs": [],
      "source": "%spark\nval joinExpresession \u003d ratingsWithFilter.col(\"ratingMovieId\") \u003d\u003d\u003d moviesFile.col(\"movieid\")\nval joinType \u003d \"inner\"\n\nratingsWithFilter.select(\"ratingMovieId\",\"avg\").join(moviesFile.selectExpr(\"movieid\", \"title\"), joinExpresession, joinType).selectExpr(\"ratingMovieid\",\"title\",\"avg\").show(20,false)"
    },
    {
      "cell_type": "code",
      "execution_count": 6,
      "metadata": {
        "autoscroll": "auto"
      },
      "outputs": [],
      "source": "%spark\n"
    }
  ]
}